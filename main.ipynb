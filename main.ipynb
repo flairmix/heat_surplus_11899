{
 "cells": [
  {
   "cell_type": "code",
   "execution_count": 4,
   "metadata": {},
   "outputs": [],
   "source": [
    "from Sun_calculation import Sun_calculation\n",
    "import pandas as pd \n",
    "\n",
    "pd.set_option('display.width', 1000)"
   ]
  },
  {
   "cell_type": "code",
   "execution_count": 5,
   "metadata": {},
   "outputs": [],
   "source": [
    "\n",
    "path_panels = [\"Walls_level_L7_Ур.ч.п._43800.000\", \n",
    "               \"Panels_level6\", \n",
    "               \"Panels_level5\", \n",
    "               \"Panels_level4\",\n",
    "               \"Panels_level3\",\n",
    "               \"Panels_level2\",\n",
    "               \"Panels_level1\"]\n",
    "\n",
    "zones = ['A1', 'A3', 'A2', 'A5', 'A6', 'A7', 'A4', 'B5', 'B4', 'B3', 'B2','B1']\n"
   ]
  },
  {
   "cell_type": "code",
   "execution_count": 6,
   "metadata": {},
   "outputs": [],
   "source": [
    "\n",
    "for level in path_panels:\n",
    "\n",
    "        technopark_sun = Sun_calculation(path_to_sun_radiationFile = \"sun_radiation_specific.csv\",\n",
    "                                                path_to_WallsFile = f\"{level}.txt\", \n",
    "                                                zones=zones\n",
    "                                        )\n",
    "\n",
    "        technopark_sun.save_csv_zone_max()\n",
    "        technopark_sun.save_csv_space_max()\n"
   ]
  }
 ],
 "metadata": {
  "kernelspec": {
   "display_name": ".venv",
   "language": "python",
   "name": "python3"
  },
  "language_info": {
   "codemirror_mode": {
    "name": "ipython",
    "version": 3
   },
   "file_extension": ".py",
   "mimetype": "text/x-python",
   "name": "python",
   "nbconvert_exporter": "python",
   "pygments_lexer": "ipython3",
   "version": "3.12.6"
  }
 },
 "nbformat": 4,
 "nbformat_minor": 2
}
