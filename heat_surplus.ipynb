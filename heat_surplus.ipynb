{
 "cells": [
  {
   "cell_type": "code",
   "execution_count": null,
   "metadata": {},
   "outputs": [],
   "source": [
    "from os import mkdir, path\n",
    "import numpy as np\n",
    "import pandas as pd \n",
    "from matplotlib import pyplot as plt \n",
    "from matplotlib import figure, use"
   ]
  },
  {
   "cell_type": "code",
   "execution_count": null,
   "metadata": {},
   "outputs": [],
   "source": [
    "path_sun_radiaton = \"sun_radiation_specific.csv\"\n",
    "\n",
    "path_panels = [\"Panels_level7\", \n",
    "               \"Panels_level6\", \n",
    "               \"Panels_level5\", \n",
    "               \"Panels_level4\",\n",
    "               \"Panels_level3\",\n",
    "               \"Panels_level2\",\n",
    "               \"Panels_level1\"]"
   ]
  },
  {
   "cell_type": "code",
   "execution_count": null,
   "metadata": {},
   "outputs": [],
   "source": [
    "df_sun_radiation = pd.read_csv(path_sun_radiaton, delimiter=';')"
   ]
  },
  {
   "cell_type": "code",
   "execution_count": null,
   "metadata": {},
   "outputs": [],
   "source": [
    "columns_hours = [\"0_1\",\"1_2\",\"2_3\",\"3_4\",\"4_5\",\"5_6\",\"6_7\",\"7_8\",\"8_9\",\"9_10\",\"10_11\",\"11_12\",\"12_13\",\"13_14\",\"14_15\",\"15_16\",\"16_17\",\"17_18\",\"18_19\",\"19_20\",\"20_21\",\"21_22\",\"22_23\",\"23_24\"]   "
   ]
  },
  {
   "cell_type": "code",
   "execution_count": null,
   "metadata": {},
   "outputs": [],
   "source": [
    "list_zones = ['A1', 'A3', 'A2', 'A5', 'A6', 'A7', 'A4', 'B5', 'B4', 'B3', 'B2','B1']"
   ]
  },
  {
   "cell_type": "code",
   "execution_count": null,
   "metadata": {},
   "outputs": [],
   "source": [
    "def prepare_panels(raw_df: pd.DataFrame, zone:str):\n",
    "    new_df = raw_df.drop(['K', 'x', 'y', 'z'], axis=1)\n",
    "    new_df = new_df.groupby(['spaceName', 'orient', 'name', 'zone'])['area'].sum().reset_index(name ='area_wall_sum')\n",
    "    new_df = new_df.drop(new_df[new_df.zone != zone].index )\n",
    "\n",
    "    return new_df"
   ]
  },
  {
   "cell_type": "code",
   "execution_count": null,
   "metadata": {},
   "outputs": [],
   "source": [
    "def prepare_sun_rad_for_special_zone(raw_sun_df: pd.DataFrame,\n",
    "                                     df_zone_sorted: pd.DataFrame):\n",
    "\n",
    "    not_drop_list_panels = []\n",
    "    not_drop_list_orient = []\n",
    "\n",
    "    for index, row in df_zone_sorted.iterrows():\n",
    "        not_drop_list_panels.append(row['name'])\n",
    "        not_drop_list_orient.append(row['orient'])\n",
    "\n",
    "    new_sun_df = raw_sun_df.loc[raw_sun_df['name'].isin(not_drop_list_panels)]\n",
    "    new_sun_df = new_sun_df.loc[new_sun_df['orient'].isin(not_drop_list_orient)]\n",
    "\n",
    "    return new_sun_df"
   ]
  },
  {
   "cell_type": "code",
   "execution_count": null,
   "metadata": {},
   "outputs": [],
   "source": [
    "def merge_panels_and_sunrad(df_panels: pd.DataFrame, df_sun_rad: pd.DataFrame):\n",
    "    \n",
    "    new_df = pd.merge(df_panels, df_sun_rad,  how='left', left_on=['name','orient'], right_on = ['name','orient'])\n",
    "    new_df = new_df.dropna()\n",
    "\n",
    "    return new_df   "
   ]
  },
  {
   "cell_type": "code",
   "execution_count": null,
   "metadata": {},
   "outputs": [],
   "source": [
    "def calculate_heatsurplus(merged_df: pd.DataFrame, columns_hours: list):\n",
    "    \n",
    "    for column_name in columns_hours:  \n",
    "        merged_df[f'{column_name}_W'] = round(merged_df.area_wall_sum * merged_df[column_name])\n",
    "    merged_df.loc['Total'] = merged_df.sum(numeric_only=True)\n",
    "\n",
    "    return merged_df"
   ]
  },
  {
   "cell_type": "code",
   "execution_count": null,
   "metadata": {},
   "outputs": [],
   "source": [
    "def find_max_hour(df: pd.DataFrame) -> str:\n",
    "\n",
    "    df_max_value = df.drop(['spaceName', 'orient', 'name', 'zone', 'area_wall_sum'], axis=1)\n",
    "    df_max_value.drop(columns_hours, axis=1, inplace=True)\n",
    "\n",
    "    max_heat_surplus_W = df_max_value.max(axis=0)\n",
    "    \n",
    "    return  max_heat_surplus_W.idxmax()"
   ]
  },
  {
   "cell_type": "code",
   "execution_count": null,
   "metadata": {},
   "outputs": [],
   "source": [
    "def prepare_df_to_plot(df: pd.DataFrame):\n",
    "\n",
    "    new_col = []\n",
    "    for index, row in df.iterrows():\n",
    "        \n",
    "        if type(row['zone']) != str:\n",
    "            new_col.append('Total')\n",
    "        else:\n",
    "            new_col.append(str(row['zone'])+\"_\"+str(row['spaceName'])+\"_\"+str(row['name'])+\"_\"+str(row['orient']))\n",
    "\n",
    "    new_df = df.drop([i for i in df.columns if \"W\" not in i], axis=1)\n",
    "\n",
    "    new_df['name'] = new_col\n",
    "    new_df = new_df.set_index('name', drop=True)\n",
    "    new_df = new_df.T\n",
    "    \n",
    "    return new_df"
   ]
  },
  {
   "cell_type": "code",
   "execution_count": null,
   "metadata": {},
   "outputs": [],
   "source": [
    "def plot_df(df: pd.DataFrame, name_output: str, y_limit:int, y_step:int):\n",
    "\n",
    "    plt.ioff()\n",
    "\n",
    "    # Create a new figure, plot into it, then close it so it never gets displayed\n",
    "    fig = plt.figure()\n",
    "\n",
    "    plt.figure(figsize=(24, 12), dpi=80)\n",
    "\n",
    "    plt.xticks([i for i in range(24)])\n",
    "    plt.yticks([i for i in range(0, y_limit, y_step)])\n",
    "\n",
    "    # plt.plot(df.index, df['Total'], \"-\", label='Теплопоступления сумма, Вт')\n",
    "\n",
    "    for column in df.columns:\n",
    "        plt.plot(df.index, df[column], \"-\", label=f'Теплопоступления {column}, Вт')\n",
    "\n",
    "\n",
    "    plt.title(f\"Теплопоступления в зоне по часам - {name_output}\")\n",
    "    plt.xlabel('Часы суток')\n",
    "    plt.ylabel('Теплопоступления, Вт')\n",
    "    plt.grid(True)\n",
    "    plt.legend()\n",
    "    plt.savefig(name_output)\n",
    "    plt.close(fig)\n"
   ]
  },
  {
   "cell_type": "code",
   "execution_count": null,
   "metadata": {},
   "outputs": [],
   "source": [
    "def calculate_zone(raw_df_panels: pd.DataFrame, \n",
    "                   input_zone:str, \n",
    "                   df_sun_radiation: pd.DataFrame, \n",
    "                   columns_hours:list, \n",
    "                   output_csv_name:str\n",
    "                   ):\n",
    "    \n",
    "    df_panels_prepared = prepare_panels(raw_df_panels, input_zone)\n",
    "    df_sun_specific = prepare_sun_rad_for_special_zone(df_sun_radiation, df_panels_prepared)\n",
    "    merged_df = merge_panels_and_sunrad(df_panels_prepared, df_sun_specific)\n",
    "    new_df = calculate_heatsurplus(merged_df, columns_hours)\n",
    "    max_hour = find_max_hour(new_df).replace('_W', \"\")\n",
    "\n",
    "    columns_for_drop = columns_hours[::]\n",
    "    columns_for_drop.remove(max_hour)\n",
    "\n",
    "    new_df.drop(columns_for_drop, axis=1, inplace=True)\n",
    "    new_df.index.name = 'id'\n",
    "\n",
    "    new_df.to_csv(output_csv_name)\n",
    "\n",
    "    return new_df"
   ]
  },
  {
   "cell_type": "code",
   "execution_count": null,
   "metadata": {},
   "outputs": [],
   "source": [
    "df_zone_all_levels = pd.DataFrame()\n",
    "\n",
    "for level_path in path_panels:\n",
    "    \n",
    "    raw_df_panels = pd.read_csv(level_path +\".txt\", names=[\"id\", \"name\", \"x\", \"y\", \"z\", \"zone\", \"spaceName\", \"area\", \"K\", \"orient\"])\n",
    "\n",
    "    temp_df = raw_df_panels.copy()\n",
    "    temp_df['zone'] = temp_df['zone'].str.replace(\" Фонарь\", \"\")\n",
    "    temp_df['zone'] = temp_df['zone'].str.replace(\"Атриум \", \"\")\n",
    "\n",
    "    df_zone_full_level = pd.DataFrame()\n",
    "\n",
    "    for zone_name in list_zones:\n",
    "        \n",
    "        if not path.isdir(f\"zones --- {level_path}\"):\n",
    "            mkdir(f\"zones --- {level_path}\", mode=0o777)\n",
    "\n",
    "        new_df = calculate_zone(temp_df, \n",
    "                    zone_name, \n",
    "                    df_sun_radiation, \n",
    "                    columns_hours, \n",
    "                    f\"zones --- {level_path}/{level_path}_zone{zone_name}.csv\")\n",
    "\n",
    "        prepared_df = prepare_df_to_plot(new_df)\n",
    "\n",
    "        plot_df(prepared_df, f\"zones --- {level_path}/{level_path}_zone{zone_name}.png\", 300000, 5000)\n",
    "\n",
    "\n",
    "        # сборка df для общей нагрузки на зону\n",
    "        df_zone_all_levels[f'{level_path} - {zone_name}'] = prepared_df['Total']\n",
    "\n",
    "\n",
    "        # сборка df для общей нагрузки на этаж\n",
    "        df_zone_full_level[f'{level_path} - {zone_name}'] = prepared_df['Total']\n",
    "\n",
    "\n",
    "        # нагрузка на зону суммарно \n",
    "        if not path.isdir(f\"summary_by_zone --- {zone_name}\"):\n",
    "            mkdir(f\"summary_by_zone --- {zone_name}\", mode=0o777)\n",
    "\n",
    "\n",
    "    # нагрузка на этаж суммарно \n",
    "    if not path.isdir(f\"summary_by_level --- {level_path}\"):\n",
    "        mkdir(f\"summary_by_level --- {level_path}\", mode=0o777)\n",
    "    \n",
    "    df_zone_full_level = df_zone_full_level.T\n",
    "    df_zone_full_level.loc['Total'] = df_zone_full_level.sum(numeric_only=True)\n",
    "    df_zone_full_level = df_zone_full_level.T\n",
    "    \n",
    "    df_zone_full_level.to_csv(f'summary_by_level --- {level_path}/df_zone_full_level_{level_path}.csv')\n",
    "    plot_df(df_zone_full_level, f\"summary_by_level --- {level_path}/df_zone_full_level_{level_path}.png\", 10000000, 100000)\n",
    "        "
   ]
  },
  {
   "cell_type": "code",
   "execution_count": null,
   "metadata": {},
   "outputs": [],
   "source": [
    "#нагрузка на здание суммарно по часам\n",
    "df_all_building = pd.DataFrame()\n",
    "\n",
    "# нагрузка на зоны суммарно \n",
    "for zone_name in list_zones:\n",
    "    \n",
    "    df_zone = df_zone_all_levels.copy()\n",
    "\n",
    "    df_zone = df_zone.drop([i for i in df_zone.columns if zone_name not in i], axis=1)\n",
    "    \n",
    "    df_zone = df_zone.T\n",
    "    df_zone.loc['Total'] = df_zone.sum(numeric_only=True)\n",
    "    df_zone = df_zone.T\n",
    "\n",
    "    df_zone.to_csv(f'summary_by_zone --- {zone_name}/summary_by_zone --- {zone_name}.csv')\n",
    "\n",
    "    plot_df(df_zone, f\"summary_by_zone --- {zone_name}/summary_by_zone --- {zone_name}.png\", 10000000, 100000)\n",
    "\n",
    "\n",
    "    if not path.isdir(\"full_building\"):\n",
    "        mkdir(\"full_building\", mode=0o777)\n",
    "\n",
    "    df_all_building[zone_name] = df_zone['Total']\n",
    "\n",
    "\n",
    "df_all_building = df_all_building.T\n",
    "df_all_building.loc['Total'] = df_all_building.sum(numeric_only=True)\n",
    "df_all_building = df_all_building.T\n",
    "\n",
    "df_all_building.to_csv(\"full_building/full_building.csv\")\n",
    "plot_df(df_all_building, \"full_building/full_building.png\", 10000000, 100000)\n",
    "\n"
   ]
  }
 ],
 "metadata": {
  "kernelspec": {
   "display_name": "Python 3",
   "language": "python",
   "name": "python3"
  },
  "language_info": {
   "codemirror_mode": {
    "name": "ipython",
    "version": 3
   },
   "file_extension": ".py",
   "mimetype": "text/x-python",
   "name": "python",
   "nbconvert_exporter": "python",
   "pygments_lexer": "ipython3",
   "version": "3.12.3"
  }
 },
 "nbformat": 4,
 "nbformat_minor": 2
}
